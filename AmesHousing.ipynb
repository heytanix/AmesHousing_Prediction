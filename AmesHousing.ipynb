{
 "cells": [
  {
   "cell_type": "markdown",
   "id": "a478cc91-cc71-4ad4-912d-e2bf19653e25",
   "metadata": {},
   "source": [
    "# AmesHousing Project - Regression & Classification"
   ]
  },
  {
   "cell_type": "markdown",
   "id": "46c3a254-6fd2-494f-8427-2e990d9dce8b",
   "metadata": {},
   "source": [
    "## Warning: Only run one of regression or classification\n",
    "### Avoid running both together"
   ]
  },
  {
   "cell_type": "markdown",
   "id": "c7b8174d-4c54-4637-9095-b5b1dab67dcd",
   "metadata": {},
   "source": [
    "### Project Description:\n",
    "##### Regression: Predicting the type and the price of a house based on area, location, number of bedrooms and other features...\n",
    "##### Classification: Predict the type of the house (Apartment, Villa, Bungalow, etc...)\n",
    "##### Type of ML Training/Algorithm: Supervised - Classification, Regression\n",
    "##### Dataset: Ames Housing Dataset(Kaggle)( [Dataset](https://www.kaggle.com/datasets/prevek18/ames-housing-dataset) )"
   ]
  },
  {
   "cell_type": "markdown",
   "id": "78829358-bb2e-4715-a123-486eca2f1510",
   "metadata": {},
   "source": [
    "### Libraries being used:\n",
    "- Pandas: Tabular data handling (.csv in this project)\n",
    "- NumPy: For numerical operations.\n",
    "- PyTorch: For the training (Supports Regression and also classification)\n",
    "- scikit-learn: Needed for PyTorch compatibility: For StandardScaler, LabelEncoder, OneHotEncoder, etc... \n",
    "- Matplotlib: Visualizations like Line/bar/histogram charts.\n",
    "- Seaborn: For visualizations like correlation heatmaps, pair plots(EDA)"
   ]
  },
  {
   "cell_type": "markdown",
   "id": "74adf3ca-373f-40cb-932d-f20764c3939e",
   "metadata": {},
   "source": [
    "### Installing all the necessary libraries for the project."
   ]
  },
  {
   "cell_type": "code",
   "execution_count": 5,
   "id": "90d382e9-9f48-4d3b-ab3e-32f066ab6b68",
   "metadata": {},
   "outputs": [
    {
     "name": "stdout",
     "output_type": "stream",
     "text": [
      "Requirement already satisfied: pandas in /media/heytanix/Shared/JupyterLabEnvironment/py3_12/lib/python3.12/site-packages (2.2.3)\n",
      "Requirement already satisfied: numpy in /media/heytanix/Shared/JupyterLabEnvironment/py3_12/lib/python3.12/site-packages (2.1.3)\n",
      "Requirement already satisfied: matplotlib in /media/heytanix/Shared/JupyterLabEnvironment/py3_12/lib/python3.12/site-packages (3.10.3)\n",
      "Requirement already satisfied: seaborn in /media/heytanix/Shared/JupyterLabEnvironment/py3_12/lib/python3.12/site-packages (0.13.2)\n",
      "Requirement already satisfied: scikit-learn in /media/heytanix/Shared/JupyterLabEnvironment/py3_12/lib/python3.12/site-packages (1.7.0)\n",
      "Requirement already satisfied: torch in /media/heytanix/Shared/JupyterLabEnvironment/py3_12/lib/python3.12/site-packages (2.7.1)\n",
      "Requirement already satisfied: python-dateutil>=2.8.2 in /media/heytanix/Shared/JupyterLabEnvironment/py3_12/lib/python3.12/site-packages (from pandas) (2.9.0.post0)\n",
      "Requirement already satisfied: pytz>=2020.1 in /media/heytanix/Shared/JupyterLabEnvironment/py3_12/lib/python3.12/site-packages (from pandas) (2025.2)\n",
      "Requirement already satisfied: tzdata>=2022.7 in /media/heytanix/Shared/JupyterLabEnvironment/py3_12/lib/python3.12/site-packages (from pandas) (2025.2)\n",
      "Requirement already satisfied: contourpy>=1.0.1 in /media/heytanix/Shared/JupyterLabEnvironment/py3_12/lib/python3.12/site-packages (from matplotlib) (1.3.2)\n",
      "Requirement already satisfied: cycler>=0.10 in /media/heytanix/Shared/JupyterLabEnvironment/py3_12/lib/python3.12/site-packages (from matplotlib) (0.12.1)\n",
      "Requirement already satisfied: fonttools>=4.22.0 in /media/heytanix/Shared/JupyterLabEnvironment/py3_12/lib/python3.12/site-packages (from matplotlib) (4.58.5)\n",
      "Requirement already satisfied: kiwisolver>=1.3.1 in /media/heytanix/Shared/JupyterLabEnvironment/py3_12/lib/python3.12/site-packages (from matplotlib) (1.4.8)\n",
      "Requirement already satisfied: packaging>=20.0 in /media/heytanix/Shared/JupyterLabEnvironment/py3_12/lib/python3.12/site-packages (from matplotlib) (25.0)\n",
      "Requirement already satisfied: pillow>=8 in /media/heytanix/Shared/JupyterLabEnvironment/py3_12/lib/python3.12/site-packages (from matplotlib) (11.3.0)\n",
      "Requirement already satisfied: pyparsing>=2.3.1 in /media/heytanix/Shared/JupyterLabEnvironment/py3_12/lib/python3.12/site-packages (from matplotlib) (3.2.3)\n",
      "Requirement already satisfied: scipy>=1.8.0 in /media/heytanix/Shared/JupyterLabEnvironment/py3_12/lib/python3.12/site-packages (from scikit-learn) (1.16.0)\n",
      "Requirement already satisfied: joblib>=1.2.0 in /media/heytanix/Shared/JupyterLabEnvironment/py3_12/lib/python3.12/site-packages (from scikit-learn) (1.5.1)\n",
      "Requirement already satisfied: threadpoolctl>=3.1.0 in /media/heytanix/Shared/JupyterLabEnvironment/py3_12/lib/python3.12/site-packages (from scikit-learn) (3.6.0)\n",
      "Requirement already satisfied: filelock in /media/heytanix/Shared/JupyterLabEnvironment/py3_12/lib/python3.12/site-packages (from torch) (3.18.0)\n",
      "Requirement already satisfied: typing-extensions>=4.10.0 in /media/heytanix/Shared/JupyterLabEnvironment/py3_12/lib/python3.12/site-packages (from torch) (4.14.1)\n",
      "Requirement already satisfied: setuptools in /media/heytanix/Shared/JupyterLabEnvironment/py3_12/lib/python3.12/site-packages (from torch) (80.9.0)\n",
      "Requirement already satisfied: sympy>=1.13.3 in /media/heytanix/Shared/JupyterLabEnvironment/py3_12/lib/python3.12/site-packages (from torch) (1.14.0)\n",
      "Requirement already satisfied: networkx in /media/heytanix/Shared/JupyterLabEnvironment/py3_12/lib/python3.12/site-packages (from torch) (3.5)\n",
      "Requirement already satisfied: jinja2 in /media/heytanix/Shared/JupyterLabEnvironment/py3_12/lib/python3.12/site-packages (from torch) (3.1.6)\n",
      "Requirement already satisfied: fsspec in /media/heytanix/Shared/JupyterLabEnvironment/py3_12/lib/python3.12/site-packages (from torch) (2025.5.1)\n",
      "Requirement already satisfied: nvidia-cuda-nvrtc-cu12==12.6.77 in /media/heytanix/Shared/JupyterLabEnvironment/py3_12/lib/python3.12/site-packages (from torch) (12.6.77)\n",
      "Requirement already satisfied: nvidia-cuda-runtime-cu12==12.6.77 in /media/heytanix/Shared/JupyterLabEnvironment/py3_12/lib/python3.12/site-packages (from torch) (12.6.77)\n",
      "Requirement already satisfied: nvidia-cuda-cupti-cu12==12.6.80 in /media/heytanix/Shared/JupyterLabEnvironment/py3_12/lib/python3.12/site-packages (from torch) (12.6.80)\n",
      "Requirement already satisfied: nvidia-cudnn-cu12==9.5.1.17 in /media/heytanix/Shared/JupyterLabEnvironment/py3_12/lib/python3.12/site-packages (from torch) (9.5.1.17)\n",
      "Requirement already satisfied: nvidia-cublas-cu12==12.6.4.1 in /media/heytanix/Shared/JupyterLabEnvironment/py3_12/lib/python3.12/site-packages (from torch) (12.6.4.1)\n",
      "Requirement already satisfied: nvidia-cufft-cu12==11.3.0.4 in /media/heytanix/Shared/JupyterLabEnvironment/py3_12/lib/python3.12/site-packages (from torch) (11.3.0.4)\n",
      "Requirement already satisfied: nvidia-curand-cu12==10.3.7.77 in /media/heytanix/Shared/JupyterLabEnvironment/py3_12/lib/python3.12/site-packages (from torch) (10.3.7.77)\n",
      "Requirement already satisfied: nvidia-cusolver-cu12==11.7.1.2 in /media/heytanix/Shared/JupyterLabEnvironment/py3_12/lib/python3.12/site-packages (from torch) (11.7.1.2)\n",
      "Requirement already satisfied: nvidia-cusparse-cu12==12.5.4.2 in /media/heytanix/Shared/JupyterLabEnvironment/py3_12/lib/python3.12/site-packages (from torch) (12.5.4.2)\n",
      "Requirement already satisfied: nvidia-cusparselt-cu12==0.6.3 in /media/heytanix/Shared/JupyterLabEnvironment/py3_12/lib/python3.12/site-packages (from torch) (0.6.3)\n",
      "Requirement already satisfied: nvidia-nccl-cu12==2.26.2 in /media/heytanix/Shared/JupyterLabEnvironment/py3_12/lib/python3.12/site-packages (from torch) (2.26.2)\n",
      "Requirement already satisfied: nvidia-nvtx-cu12==12.6.77 in /media/heytanix/Shared/JupyterLabEnvironment/py3_12/lib/python3.12/site-packages (from torch) (12.6.77)\n",
      "Requirement already satisfied: nvidia-nvjitlink-cu12==12.6.85 in /media/heytanix/Shared/JupyterLabEnvironment/py3_12/lib/python3.12/site-packages (from torch) (12.6.85)\n",
      "Requirement already satisfied: nvidia-cufile-cu12==1.11.1.6 in /media/heytanix/Shared/JupyterLabEnvironment/py3_12/lib/python3.12/site-packages (from torch) (1.11.1.6)\n",
      "Requirement already satisfied: triton==3.3.1 in /media/heytanix/Shared/JupyterLabEnvironment/py3_12/lib/python3.12/site-packages (from torch) (3.3.1)\n",
      "Requirement already satisfied: six>=1.5 in /media/heytanix/Shared/JupyterLabEnvironment/py3_12/lib/python3.12/site-packages (from python-dateutil>=2.8.2->pandas) (1.17.0)\n",
      "Requirement already satisfied: mpmath<1.4,>=1.1.0 in /media/heytanix/Shared/JupyterLabEnvironment/py3_12/lib/python3.12/site-packages (from sympy>=1.13.3->torch) (1.3.0)\n",
      "Requirement already satisfied: MarkupSafe>=2.0 in /media/heytanix/Shared/JupyterLabEnvironment/py3_12/lib/python3.12/site-packages (from jinja2->torch) (3.0.2)\n",
      "\n",
      "\u001b[1m[\u001b[0m\u001b[34;49mnotice\u001b[0m\u001b[1;39;49m]\u001b[0m\u001b[39;49m A new release of pip is available: \u001b[0m\u001b[31;49m24.0\u001b[0m\u001b[39;49m -> \u001b[0m\u001b[32;49m25.1.1\u001b[0m\n",
      "\u001b[1m[\u001b[0m\u001b[34;49mnotice\u001b[0m\u001b[1;39;49m]\u001b[0m\u001b[39;49m To update, run: \u001b[0m\u001b[32;49mpip install --upgrade pip\u001b[0m\n"
     ]
    }
   ],
   "source": [
    "!pip install pandas numpy matplotlib seaborn scikit-learn torch"
   ]
  },
  {
   "cell_type": "markdown",
   "id": "08cf5307-e018-42f9-b324-62085832eaac",
   "metadata": {},
   "source": [
    "### Importing the necessary libraries"
   ]
  },
  {
   "cell_type": "code",
   "execution_count": 1,
   "id": "7e16d567-2391-4fe6-b67b-04d53e8cb664",
   "metadata": {},
   "outputs": [],
   "source": [
    "import pandas as pd\n",
    "import numpy as np\n",
    "import matplotlib.pyplot as plt\n",
    "import seaborn as sns\n",
    "\n",
    "from sklearn.model_selection import train_test_split\n",
    "from sklearn.preprocessing import StandardScaler, LabelEncoder, OneHotEncoder\n",
    "from sklearn.metrics import mean_squared_error, accuracy_score\n",
    "\n",
    "import torch\n",
    "import torch.nn as nn\n",
    "import torch.optim as optim"
   ]
  },
  {
   "cell_type": "markdown",
   "id": "b5dfa862-66cb-43f0-bc81-9e4eb0e78c7e",
   "metadata": {},
   "source": [
    "### Loading the DataSet"
   ]
  },
  {
   "cell_type": "code",
   "execution_count": 2,
   "id": "b795d679-240a-44a6-9e60-4f9029f9a098",
   "metadata": {},
   "outputs": [],
   "source": [
    "df=pd.read_csv('AmesHousing.csv')"
   ]
  },
  {
   "cell_type": "markdown",
   "id": "b509bc22-f820-4922-a4cf-bac260971890",
   "metadata": {},
   "source": [
    "### Inspecting the DataSet"
   ]
  },
  {
   "cell_type": "code",
   "execution_count": 3,
   "id": "74ea42b0-bba8-4b3e-b593-c87892c49df2",
   "metadata": {},
   "outputs": [
    {
     "name": "stdout",
     "output_type": "stream",
     "text": [
      "(2930, 82)\n",
      "   Order        PID  MS SubClass MS Zoning  Lot Frontage  Lot Area Street  \\\n",
      "0      1  526301100           20        RL         141.0     31770   Pave   \n",
      "1      2  526350040           20        RH          80.0     11622   Pave   \n",
      "2      3  526351010           20        RL          81.0     14267   Pave   \n",
      "3      4  526353030           20        RL          93.0     11160   Pave   \n",
      "4      5  527105010           60        RL          74.0     13830   Pave   \n",
      "5      6  527105030           60        RL          78.0      9978   Pave   \n",
      "6      7  527127150          120        RL          41.0      4920   Pave   \n",
      "7      8  527145080          120        RL          43.0      5005   Pave   \n",
      "8      9  527146030          120        RL          39.0      5389   Pave   \n",
      "9     10  527162130           60        RL          60.0      7500   Pave   \n",
      "\n",
      "  Alley Lot Shape Land Contour  ... Pool Area Pool QC  Fence Misc Feature  \\\n",
      "0   NaN       IR1          Lvl  ...         0     NaN    NaN          NaN   \n",
      "1   NaN       Reg          Lvl  ...         0     NaN  MnPrv          NaN   \n",
      "2   NaN       IR1          Lvl  ...         0     NaN    NaN         Gar2   \n",
      "3   NaN       Reg          Lvl  ...         0     NaN    NaN          NaN   \n",
      "4   NaN       IR1          Lvl  ...         0     NaN  MnPrv          NaN   \n",
      "5   NaN       IR1          Lvl  ...         0     NaN    NaN          NaN   \n",
      "6   NaN       Reg          Lvl  ...         0     NaN    NaN          NaN   \n",
      "7   NaN       IR1          HLS  ...         0     NaN    NaN          NaN   \n",
      "8   NaN       IR1          Lvl  ...         0     NaN    NaN          NaN   \n",
      "9   NaN       Reg          Lvl  ...         0     NaN    NaN          NaN   \n",
      "\n",
      "  Misc Val Mo Sold Yr Sold Sale Type  Sale Condition  SalePrice  \n",
      "0        0       5    2010       WD           Normal     215000  \n",
      "1        0       6    2010       WD           Normal     105000  \n",
      "2    12500       6    2010       WD           Normal     172000  \n",
      "3        0       4    2010       WD           Normal     244000  \n",
      "4        0       3    2010       WD           Normal     189900  \n",
      "5        0       6    2010       WD           Normal     195500  \n",
      "6        0       4    2010       WD           Normal     213500  \n",
      "7        0       1    2010       WD           Normal     191500  \n",
      "8        0       3    2010       WD           Normal     236500  \n",
      "9        0       6    2010       WD           Normal     189000  \n",
      "\n",
      "[10 rows x 82 columns]\n",
      "      Order        PID  MS SubClass MS Zoning  Lot Frontage  Lot Area Street  \\\n",
      "2920   2921  923228310          160        RM          21.0      1894   Pave   \n",
      "2921   2922  923229110           90        RL          55.0     12640   Pave   \n",
      "2922   2923  923230040           90        RL          63.0      9297   Pave   \n",
      "2923   2924  923250060           20        RL          80.0     17400   Pave   \n",
      "2924   2925  923251180           20        RL         160.0     20000   Pave   \n",
      "2925   2926  923275080           80        RL          37.0      7937   Pave   \n",
      "2926   2927  923276100           20        RL           NaN      8885   Pave   \n",
      "2927   2928  923400125           85        RL          62.0     10441   Pave   \n",
      "2928   2929  924100070           20        RL          77.0     10010   Pave   \n",
      "2929   2930  924151050           60        RL          74.0      9627   Pave   \n",
      "\n",
      "     Alley Lot Shape Land Contour  ... Pool Area Pool QC  Fence Misc Feature  \\\n",
      "2920   NaN       Reg          Lvl  ...         0     NaN    NaN          NaN   \n",
      "2921   NaN       IR1          Lvl  ...         0     NaN    NaN          NaN   \n",
      "2922   NaN       Reg          Lvl  ...         0     NaN    NaN          NaN   \n",
      "2923   NaN       Reg          Low  ...         0     NaN    NaN          NaN   \n",
      "2924   NaN       Reg          Lvl  ...         0     NaN    NaN          NaN   \n",
      "2925   NaN       IR1          Lvl  ...         0     NaN  GdPrv          NaN   \n",
      "2926   NaN       IR1          Low  ...         0     NaN  MnPrv          NaN   \n",
      "2927   NaN       Reg          Lvl  ...         0     NaN  MnPrv         Shed   \n",
      "2928   NaN       Reg          Lvl  ...         0     NaN    NaN          NaN   \n",
      "2929   NaN       Reg          Lvl  ...         0     NaN    NaN          NaN   \n",
      "\n",
      "     Misc Val Mo Sold Yr Sold Sale Type  Sale Condition  SalePrice  \n",
      "2920        0       4    2006       WD          Abnorml      71000  \n",
      "2921        0       7    2006       WD           Normal     150900  \n",
      "2922        0       7    2006       WD           Family     188000  \n",
      "2923        0       5    2006       WD           Normal     160000  \n",
      "2924        0       9    2006       WD          Abnorml     131000  \n",
      "2925        0       3    2006       WD           Normal     142500  \n",
      "2926        0       6    2006       WD           Normal     131000  \n",
      "2927      700       7    2006       WD           Normal     132000  \n",
      "2928        0       4    2006       WD           Normal     170000  \n",
      "2929        0      11    2006       WD           Normal     188000  \n",
      "\n",
      "[10 rows x 82 columns]\n",
      "<class 'pandas.core.frame.DataFrame'>\n",
      "RangeIndex: 2930 entries, 0 to 2929\n",
      "Data columns (total 82 columns):\n",
      " #   Column           Non-Null Count  Dtype  \n",
      "---  ------           --------------  -----  \n",
      " 0   Order            2930 non-null   int64  \n",
      " 1   PID              2930 non-null   int64  \n",
      " 2   MS SubClass      2930 non-null   int64  \n",
      " 3   MS Zoning        2930 non-null   object \n",
      " 4   Lot Frontage     2440 non-null   float64\n",
      " 5   Lot Area         2930 non-null   int64  \n",
      " 6   Street           2930 non-null   object \n",
      " 7   Alley            198 non-null    object \n",
      " 8   Lot Shape        2930 non-null   object \n",
      " 9   Land Contour     2930 non-null   object \n",
      " 10  Utilities        2930 non-null   object \n",
      " 11  Lot Config       2930 non-null   object \n",
      " 12  Land Slope       2930 non-null   object \n",
      " 13  Neighborhood     2930 non-null   object \n",
      " 14  Condition 1      2930 non-null   object \n",
      " 15  Condition 2      2930 non-null   object \n",
      " 16  Bldg Type        2930 non-null   object \n",
      " 17  House Style      2930 non-null   object \n",
      " 18  Overall Qual     2930 non-null   int64  \n",
      " 19  Overall Cond     2930 non-null   int64  \n",
      " 20  Year Built       2930 non-null   int64  \n",
      " 21  Year Remod/Add   2930 non-null   int64  \n",
      " 22  Roof Style       2930 non-null   object \n",
      " 23  Roof Matl        2930 non-null   object \n",
      " 24  Exterior 1st     2930 non-null   object \n",
      " 25  Exterior 2nd     2930 non-null   object \n",
      " 26  Mas Vnr Type     1155 non-null   object \n",
      " 27  Mas Vnr Area     2907 non-null   float64\n",
      " 28  Exter Qual       2930 non-null   object \n",
      " 29  Exter Cond       2930 non-null   object \n",
      " 30  Foundation       2930 non-null   object \n",
      " 31  Bsmt Qual        2850 non-null   object \n",
      " 32  Bsmt Cond        2850 non-null   object \n",
      " 33  Bsmt Exposure    2847 non-null   object \n",
      " 34  BsmtFin Type 1   2850 non-null   object \n",
      " 35  BsmtFin SF 1     2929 non-null   float64\n",
      " 36  BsmtFin Type 2   2849 non-null   object \n",
      " 37  BsmtFin SF 2     2929 non-null   float64\n",
      " 38  Bsmt Unf SF      2929 non-null   float64\n",
      " 39  Total Bsmt SF    2929 non-null   float64\n",
      " 40  Heating          2930 non-null   object \n",
      " 41  Heating QC       2930 non-null   object \n",
      " 42  Central Air      2930 non-null   object \n",
      " 43  Electrical       2929 non-null   object \n",
      " 44  1st Flr SF       2930 non-null   int64  \n",
      " 45  2nd Flr SF       2930 non-null   int64  \n",
      " 46  Low Qual Fin SF  2930 non-null   int64  \n",
      " 47  Gr Liv Area      2930 non-null   int64  \n",
      " 48  Bsmt Full Bath   2928 non-null   float64\n",
      " 49  Bsmt Half Bath   2928 non-null   float64\n",
      " 50  Full Bath        2930 non-null   int64  \n",
      " 51  Half Bath        2930 non-null   int64  \n",
      " 52  Bedroom AbvGr    2930 non-null   int64  \n",
      " 53  Kitchen AbvGr    2930 non-null   int64  \n",
      " 54  Kitchen Qual     2930 non-null   object \n",
      " 55  TotRms AbvGrd    2930 non-null   int64  \n",
      " 56  Functional       2930 non-null   object \n",
      " 57  Fireplaces       2930 non-null   int64  \n",
      " 58  Fireplace Qu     1508 non-null   object \n",
      " 59  Garage Type      2773 non-null   object \n",
      " 60  Garage Yr Blt    2771 non-null   float64\n",
      " 61  Garage Finish    2771 non-null   object \n",
      " 62  Garage Cars      2929 non-null   float64\n",
      " 63  Garage Area      2929 non-null   float64\n",
      " 64  Garage Qual      2771 non-null   object \n",
      " 65  Garage Cond      2771 non-null   object \n",
      " 66  Paved Drive      2930 non-null   object \n",
      " 67  Wood Deck SF     2930 non-null   int64  \n",
      " 68  Open Porch SF    2930 non-null   int64  \n",
      " 69  Enclosed Porch   2930 non-null   int64  \n",
      " 70  3Ssn Porch       2930 non-null   int64  \n",
      " 71  Screen Porch     2930 non-null   int64  \n",
      " 72  Pool Area        2930 non-null   int64  \n",
      " 73  Pool QC          13 non-null     object \n",
      " 74  Fence            572 non-null    object \n",
      " 75  Misc Feature     106 non-null    object \n",
      " 76  Misc Val         2930 non-null   int64  \n",
      " 77  Mo Sold          2930 non-null   int64  \n",
      " 78  Yr Sold          2930 non-null   int64  \n",
      " 79  Sale Type        2930 non-null   object \n",
      " 80  Sale Condition   2930 non-null   object \n",
      " 81  SalePrice        2930 non-null   int64  \n",
      "dtypes: float64(11), int64(28), object(43)\n",
      "memory usage: 1.8+ MB\n",
      "None\n",
      "            Order           PID  MS SubClass  Lot Frontage       Lot Area  \\\n",
      "count  2930.00000  2.930000e+03  2930.000000   2440.000000    2930.000000   \n",
      "mean   1465.50000  7.144645e+08    57.387372     69.224590   10147.921843   \n",
      "std     845.96247  1.887308e+08    42.638025     23.365335    7880.017759   \n",
      "min       1.00000  5.263011e+08    20.000000     21.000000    1300.000000   \n",
      "25%     733.25000  5.284770e+08    20.000000     58.000000    7440.250000   \n",
      "50%    1465.50000  5.354536e+08    50.000000     68.000000    9436.500000   \n",
      "75%    2197.75000  9.071811e+08    70.000000     80.000000   11555.250000   \n",
      "max    2930.00000  1.007100e+09   190.000000    313.000000  215245.000000   \n",
      "\n",
      "       Overall Qual  Overall Cond   Year Built  Year Remod/Add  Mas Vnr Area  \\\n",
      "count   2930.000000   2930.000000  2930.000000     2930.000000   2907.000000   \n",
      "mean       6.094881      5.563140  1971.356314     1984.266553    101.896801   \n",
      "std        1.411026      1.111537    30.245361       20.860286    179.112611   \n",
      "min        1.000000      1.000000  1872.000000     1950.000000      0.000000   \n",
      "25%        5.000000      5.000000  1954.000000     1965.000000      0.000000   \n",
      "50%        6.000000      5.000000  1973.000000     1993.000000      0.000000   \n",
      "75%        7.000000      6.000000  2001.000000     2004.000000    164.000000   \n",
      "max       10.000000      9.000000  2010.000000     2010.000000   1600.000000   \n",
      "\n",
      "       ...  Wood Deck SF  Open Porch SF  Enclosed Porch   3Ssn Porch  \\\n",
      "count  ...   2930.000000    2930.000000     2930.000000  2930.000000   \n",
      "mean   ...     93.751877      47.533447       23.011604     2.592491   \n",
      "std    ...    126.361562      67.483400       64.139059    25.141331   \n",
      "min    ...      0.000000       0.000000        0.000000     0.000000   \n",
      "25%    ...      0.000000       0.000000        0.000000     0.000000   \n",
      "50%    ...      0.000000      27.000000        0.000000     0.000000   \n",
      "75%    ...    168.000000      70.000000        0.000000     0.000000   \n",
      "max    ...   1424.000000     742.000000     1012.000000   508.000000   \n",
      "\n",
      "       Screen Porch    Pool Area      Misc Val      Mo Sold      Yr Sold  \\\n",
      "count   2930.000000  2930.000000   2930.000000  2930.000000  2930.000000   \n",
      "mean      16.002048     2.243345     50.635154     6.216041  2007.790444   \n",
      "std       56.087370    35.597181    566.344288     2.714492     1.316613   \n",
      "min        0.000000     0.000000      0.000000     1.000000  2006.000000   \n",
      "25%        0.000000     0.000000      0.000000     4.000000  2007.000000   \n",
      "50%        0.000000     0.000000      0.000000     6.000000  2008.000000   \n",
      "75%        0.000000     0.000000      0.000000     8.000000  2009.000000   \n",
      "max      576.000000   800.000000  17000.000000    12.000000  2010.000000   \n",
      "\n",
      "           SalePrice  \n",
      "count    2930.000000  \n",
      "mean   180796.060068  \n",
      "std     79886.692357  \n",
      "min     12789.000000  \n",
      "25%    129500.000000  \n",
      "50%    160000.000000  \n",
      "75%    213500.000000  \n",
      "max    755000.000000  \n",
      "\n",
      "[8 rows x 39 columns]\n"
     ]
    }
   ],
   "source": [
    "print(df.shape)\n",
    "print(df.head(10))\n",
    "print(df.tail(10))\n",
    "print(df.info())\n",
    "print(df.describe())"
   ]
  },
  {
   "cell_type": "markdown",
   "id": "6de7a88f-1784-4ebf-8f2f-f08e258ed9f0",
   "metadata": {},
   "source": [
    "### Dropping irrelevent columns or NaNs "
   ]
  },
  {
   "cell_type": "code",
   "execution_count": 4,
   "id": "ec715975-cd7f-4604-8905-d25a19d9b0b4",
   "metadata": {},
   "outputs": [],
   "source": [
    "df = df.drop(columns=[\n",
    "    'Order', 'PID', 'Alley', 'Pool QC', 'Fence', 'Misc Feature', 'Utilities',\n",
    "    'Fireplace Qu', 'Garage Yr Blt', 'Garage Cond',\n",
    "    'Condition 2', 'BsmtFin SF 2', 'Low Qual Fin SF',\n",
    "    '3Ssn Porch', 'Screen Porch', 'Pool Area', 'Misc Val','MS SubClass',\n",
    "    'Roof Matl','Exterior 2nd','BsmtFin Type 2','Functional','Enclosed Porch',\n",
    "    'Garage Qual',\"Mo Sold\"\n",
    "])"
   ]
  },
  {
   "cell_type": "code",
   "execution_count": 5,
   "id": "7ad92149-448b-44a9-a322-075c8d6a0e58",
   "metadata": {},
   "outputs": [
    {
     "name": "stdout",
     "output_type": "stream",
     "text": [
      "<class 'pandas.core.frame.DataFrame'>\n",
      "RangeIndex: 2930 entries, 0 to 2929\n",
      "Data columns (total 57 columns):\n",
      " #   Column          Non-Null Count  Dtype  \n",
      "---  ------          --------------  -----  \n",
      " 0   MS Zoning       2930 non-null   object \n",
      " 1   Lot Frontage    2440 non-null   float64\n",
      " 2   Lot Area        2930 non-null   int64  \n",
      " 3   Street          2930 non-null   object \n",
      " 4   Lot Shape       2930 non-null   object \n",
      " 5   Land Contour    2930 non-null   object \n",
      " 6   Lot Config      2930 non-null   object \n",
      " 7   Land Slope      2930 non-null   object \n",
      " 8   Neighborhood    2930 non-null   object \n",
      " 9   Condition 1     2930 non-null   object \n",
      " 10  Bldg Type       2930 non-null   object \n",
      " 11  House Style     2930 non-null   object \n",
      " 12  Overall Qual    2930 non-null   int64  \n",
      " 13  Overall Cond    2930 non-null   int64  \n",
      " 14  Year Built      2930 non-null   int64  \n",
      " 15  Year Remod/Add  2930 non-null   int64  \n",
      " 16  Roof Style      2930 non-null   object \n",
      " 17  Exterior 1st    2930 non-null   object \n",
      " 18  Mas Vnr Type    1155 non-null   object \n",
      " 19  Mas Vnr Area    2907 non-null   float64\n",
      " 20  Exter Qual      2930 non-null   object \n",
      " 21  Exter Cond      2930 non-null   object \n",
      " 22  Foundation      2930 non-null   object \n",
      " 23  Bsmt Qual       2850 non-null   object \n",
      " 24  Bsmt Cond       2850 non-null   object \n",
      " 25  Bsmt Exposure   2847 non-null   object \n",
      " 26  BsmtFin Type 1  2850 non-null   object \n",
      " 27  BsmtFin SF 1    2929 non-null   float64\n",
      " 28  Bsmt Unf SF     2929 non-null   float64\n",
      " 29  Total Bsmt SF   2929 non-null   float64\n",
      " 30  Heating         2930 non-null   object \n",
      " 31  Heating QC      2930 non-null   object \n",
      " 32  Central Air     2930 non-null   object \n",
      " 33  Electrical      2929 non-null   object \n",
      " 34  1st Flr SF      2930 non-null   int64  \n",
      " 35  2nd Flr SF      2930 non-null   int64  \n",
      " 36  Gr Liv Area     2930 non-null   int64  \n",
      " 37  Bsmt Full Bath  2928 non-null   float64\n",
      " 38  Bsmt Half Bath  2928 non-null   float64\n",
      " 39  Full Bath       2930 non-null   int64  \n",
      " 40  Half Bath       2930 non-null   int64  \n",
      " 41  Bedroom AbvGr   2930 non-null   int64  \n",
      " 42  Kitchen AbvGr   2930 non-null   int64  \n",
      " 43  Kitchen Qual    2930 non-null   object \n",
      " 44  TotRms AbvGrd   2930 non-null   int64  \n",
      " 45  Fireplaces      2930 non-null   int64  \n",
      " 46  Garage Type     2773 non-null   object \n",
      " 47  Garage Finish   2771 non-null   object \n",
      " 48  Garage Cars     2929 non-null   float64\n",
      " 49  Garage Area     2929 non-null   float64\n",
      " 50  Paved Drive     2930 non-null   object \n",
      " 51  Wood Deck SF    2930 non-null   int64  \n",
      " 52  Open Porch SF   2930 non-null   int64  \n",
      " 53  Yr Sold         2930 non-null   int64  \n",
      " 54  Sale Type       2930 non-null   object \n",
      " 55  Sale Condition  2930 non-null   object \n",
      " 56  SalePrice       2930 non-null   int64  \n",
      "dtypes: float64(9), int64(18), object(30)\n",
      "memory usage: 1.3+ MB\n"
     ]
    }
   ],
   "source": [
    "df.info()"
   ]
  },
  {
   "cell_type": "markdown",
   "id": "d8ceedde-097a-4f56-8ede-d66817beafed",
   "metadata": {},
   "source": [
    "### Filling in the missing values"
   ]
  },
  {
   "cell_type": "code",
   "execution_count": 6,
   "id": "20e741f4-25e8-4bfe-ba0f-7bec0167c07b",
   "metadata": {},
   "outputs": [],
   "source": [
    "df = df.fillna(df.median(numeric_only=True)) #For numerical\n",
    "df = df.fillna(\"None\") #For Categorical"
   ]
  },
  {
   "cell_type": "markdown",
   "id": "199ed075-b129-4e27-a6ba-80757785e8ca",
   "metadata": {},
   "source": [
    "### Encoding categorical features"
   ]
  },
  {
   "cell_type": "code",
   "execution_count": 7,
   "id": "f21fa643-49c7-4a99-ba90-620786cd08c1",
   "metadata": {},
   "outputs": [],
   "source": [
    "categorical_cols = df.select_dtypes(include='object').columns\n",
    "df = pd.get_dummies(df, columns=categorical_cols) #One-Hot encoding"
   ]
  },
  {
   "cell_type": "markdown",
   "id": "400c0b2b-0fbd-47c9-b631-50420ad51a97",
   "metadata": {},
   "source": [
    "### Defining target and features"
   ]
  },
  {
   "cell_type": "markdown",
   "id": "a7df44ee-4fc5-438d-a6af-342606275bda",
   "metadata": {},
   "source": [
    "#### For Regression: "
   ]
  },
  {
   "cell_type": "code",
   "execution_count": null,
   "id": "8ee6bd02-f36a-424d-bc24-d3cb3dd4c726",
   "metadata": {},
   "outputs": [],
   "source": [
    "x = df.drop(columns='SalePrice')\n",
    "y = df['SalePrice']"
   ]
  },
  {
   "cell_type": "markdown",
   "id": "eb7d24d4-a88d-41ed-b894-6bfb289d7c6f",
   "metadata": {},
   "source": [
    "#### For classification"
   ]
  },
  {
   "cell_type": "markdown",
   "id": "c5530883-fef0-4008-b9b8-964f906553d0",
   "metadata": {},
   "source": [
    "##### Create price category"
   ]
  },
  {
   "cell_type": "code",
   "execution_count": 8,
   "id": "c967c043-4c7d-4648-afca-41694ac164b8",
   "metadata": {},
   "outputs": [],
   "source": [
    "df['PriceCategory']=pd.cut(df['SalePrice'],\n",
    "                          bins=[0,150000, 300000, np.inf],\n",
    "                          labels=['Low','Medium','High'])\n",
    "\n",
    "X = df.drop(columns=['SalePrice','PriceCategory'])\n",
    "y = df['PriceCategory']"
   ]
  },
  {
   "cell_type": "markdown",
   "id": "ad0eb5c0-e13a-45e8-ba0e-04f00cc838fb",
   "metadata": {},
   "source": [
    "##### Encode Labels"
   ]
  },
  {
   "cell_type": "code",
   "execution_count": 9,
   "id": "157ab870-1a21-49fb-853d-c522debdb134",
   "metadata": {},
   "outputs": [],
   "source": [
    "le = LabelEncoder()\n",
    "y = le.fit_transform(y) #Converts to 0,1,2"
   ]
  },
  {
   "cell_type": "markdown",
   "id": "7adc5e86-bbcf-43c9-adbe-56fcbf946fac",
   "metadata": {},
   "source": [
    "### Train-Test Split"
   ]
  },
  {
   "cell_type": "code",
   "execution_count": 10,
   "id": "54baa0f4-90de-49a7-9081-a573155c1e11",
   "metadata": {},
   "outputs": [],
   "source": [
    "X_train, X_test, y_train, y_test = train_test_split(X,y, test_size=0.2, random_state=42)"
   ]
  },
  {
   "cell_type": "markdown",
   "id": "23a2663f-375f-46d8-9d2e-2a8eb460d796",
   "metadata": {},
   "source": [
    "### Scale Features"
   ]
  },
  {
   "cell_type": "code",
   "execution_count": 11,
   "id": "a51047dd-b684-43c6-9c88-cba6e5417d1f",
   "metadata": {},
   "outputs": [],
   "source": [
    "scaler = StandardScaler()\n",
    "X_train = scaler.fit_transform(X_train)\n",
    "X_test = scaler.transform(X_test)"
   ]
  },
  {
   "cell_type": "markdown",
   "id": "754efc2b-5103-4654-a8e6-18c0e828b84d",
   "metadata": {},
   "source": [
    "### Conversion to PyTorch Tensors"
   ]
  },
  {
   "cell_type": "markdown",
   "id": "16ade1cc-c395-4b6d-8801-1910834cea2c",
   "metadata": {},
   "source": [
    "#### Selecting the hardware (CUDA/CPU)"
   ]
  },
  {
   "cell_type": "code",
   "execution_count": 12,
   "id": "9df92651-1845-4fbc-bea2-4b0f92fd9f71",
   "metadata": {},
   "outputs": [
    {
     "name": "stdout",
     "output_type": "stream",
     "text": [
      "Using CUDA GPU\n"
     ]
    }
   ],
   "source": [
    "device = torch.device('cuda' if torch.cuda.is_available() else 'cpu')\n",
    "if not torch.cuda.is_available():\n",
    "    print(\"Using CPU\")\n",
    "else:\n",
    "    print(\"Using CUDA GPU\")"
   ]
  },
  {
   "cell_type": "markdown",
   "id": "b65c2151-8b92-43a3-9486-a0134a0db7ad",
   "metadata": {},
   "source": [
    "#### Converting"
   ]
  },
  {
   "cell_type": "code",
   "execution_count": 15,
   "id": "f0ed453e-0be7-4da9-90a5-18b42176be87",
   "metadata": {},
   "outputs": [],
   "source": [
    "X_train_tensor = torch.tensor(X_train, dtype=torch.float32).to(device)\n",
    "X_test_tensor = torch.tensor(X_test, dtype=torch.float32).to(device)"
   ]
  },
  {
   "cell_type": "markdown",
   "id": "fa3601e6-6a6f-484d-a94b-a1f28178f775",
   "metadata": {},
   "source": [
    "#### Regression"
   ]
  },
  {
   "cell_type": "code",
   "execution_count": null,
   "id": "ec9476ab-648b-4508-8dbb-b1843b21a6ce",
   "metadata": {},
   "outputs": [],
   "source": [
    "y_train_tensor = torch.tensor(y_train.values, dtype=torch.float32).view(-1,1).to(device)\n",
    "y_test_tensor = torch.tensor(y_test.values, dtype=torch.float32).view(-1,1).to(device)"
   ]
  },
  {
   "cell_type": "markdown",
   "id": "58726b71-2040-4913-916c-01239a902773",
   "metadata": {},
   "source": [
    "#### Classification"
   ]
  },
  {
   "cell_type": "code",
   "execution_count": 16,
   "id": "d9c4caf7-1d95-4b7a-9c8a-7b44d0023689",
   "metadata": {},
   "outputs": [],
   "source": [
    "y_train_tensor = torch.tensor(y_train, dtype=torch.long).to(device)\n",
    "y_test_tensor = torch.tensor(y_test, dtype=torch.long).to(device)"
   ]
  },
  {
   "cell_type": "markdown",
   "id": "b8f79d0e-7b09-4807-af37-0029b4f6516d",
   "metadata": {},
   "source": [
    "### Defining the PyTorch Model"
   ]
  },
  {
   "cell_type": "markdown",
   "id": "fd9ea0b3-fe10-4612-b2e1-3d0a4d5f0d59",
   "metadata": {},
   "source": [
    "#### Regression"
   ]
  },
  {
   "cell_type": "code",
   "execution_count": 7,
   "id": "f3743dcc-9da6-4fe4-b0f0-81e38880b2d6",
   "metadata": {},
   "outputs": [
    {
     "ename": "SyntaxError",
     "evalue": "incomplete input (1975267751.py, line 4)",
     "output_type": "error",
     "traceback": [
      "  \u001b[36mCell\u001b[39m\u001b[36m \u001b[39m\u001b[32mIn[7]\u001b[39m\u001b[32m, line 4\u001b[39m\n\u001b[31m    \u001b[39m\u001b[31mself.fc=nn.Sequential(\u001b[39m\n                          ^\n\u001b[31mSyntaxError\u001b[39m\u001b[31m:\u001b[39m incomplete input\n"
     ]
    }
   ],
   "source": [
    "class RegressionModel(nn.Module):\n",
    "    def __init__(self, input_dim):\n",
    "        super(RegressionModel, self).__init__()\n",
    "        self.fc=nn.Sequential(\n",
    "            nn.Linear(input_dim,128),\n",
    "            nn.ReLU(),\n",
    "            nn.Linear(128, 64),\n",
    "            nn.ReLU(),\n",
    "            nn.Linear(64,1)\n",
    "        )\n",
    "\n",
    "    def forward(self , x):\n",
    "        return self.fc(x)"
   ]
  },
  {
   "cell_type": "markdown",
   "id": "fd8fb98f-c683-4215-b86e-c15371f4f3cb",
   "metadata": {},
   "source": [
    "#### Classification"
   ]
  },
  {
   "cell_type": "code",
   "execution_count": 17,
   "id": "eb1b0e7b-94ae-4d7c-9a84-612b2bc78cf6",
   "metadata": {},
   "outputs": [],
   "source": [
    "class ClassificationModel(nn.Module):\n",
    "    def __init__(self, input_dim, output_dim):\n",
    "        super(ClassificationModel, self).__init__()\n",
    "        self.fc = nn.Sequential(\n",
    "            nn.Linear(input_dim, 128),\n",
    "            nn.ReLU(),\n",
    "            nn.Linear(128, 64),\n",
    "            nn.ReLU(),\n",
    "            nn.Linear(64, output_dim)\n",
    "        )\n",
    "\n",
    "    def forward(self, x):\n",
    "        return self.fc(x)"
   ]
  },
  {
   "cell_type": "markdown",
   "id": "f38f048f-3aa5-46de-bf24-9401d0fd64d4",
   "metadata": {},
   "source": [
    "### Training the Model"
   ]
  },
  {
   "cell_type": "markdown",
   "id": "7f96f351-a772-4261-97f1-7e58b2467787",
   "metadata": {},
   "source": [
    "#### Regression"
   ]
  },
  {
   "cell_type": "code",
   "execution_count": null,
   "id": "d75640c1-d51d-414a-998b-bd745e848ed5",
   "metadata": {},
   "outputs": [],
   "source": [
    "model = RegressionModel(X_train.shape[1]).to(device)\n",
    "criterion = nn.MSELoss()\n",
    "optimizer = optim.Adam(model.parameters(), lr=0.001)\n",
    "\n",
    "epochs = 100\n",
    "for epoch in range(epochs):\n",
    "    model.train()\n",
    "    outputs = model(X_train_tensor)\n",
    "    loss = criterion(outputs, y_train_tensor)\n",
    "\n",
    "    optimizer.zero_grad()\n",
    "    optimizer.step()\n",
    "\n",
    "    if (epoch+1)&10 ==0:\n",
    "        print(f\"Epoch [{epoch+1}/{epochs}], Loss: {loss.item():.4f}\")"
   ]
  },
  {
   "cell_type": "markdown",
   "id": "566540df-4599-47ac-b8d6-b8cea0576385",
   "metadata": {},
   "source": [
    "#### Classification"
   ]
  },
  {
   "cell_type": "code",
   "execution_count": 18,
   "id": "55e2c13f-15b2-4244-93d0-fb96ceed5a5b",
   "metadata": {},
   "outputs": [
    {
     "name": "stdout",
     "output_type": "stream",
     "text": [
      "Epoch [1/100], Loss: 1.0721\n",
      "Epoch [4/100], Loss: 1.0721\n",
      "Epoch [5/100], Loss: 1.0721\n",
      "Epoch [16/100], Loss: 1.0721\n",
      "Epoch [17/100], Loss: 1.0721\n",
      "Epoch [20/100], Loss: 1.0721\n",
      "Epoch [21/100], Loss: 1.0721\n",
      "Epoch [32/100], Loss: 1.0721\n",
      "Epoch [33/100], Loss: 1.0721\n",
      "Epoch [36/100], Loss: 1.0721\n",
      "Epoch [37/100], Loss: 1.0721\n",
      "Epoch [48/100], Loss: 1.0721\n",
      "Epoch [49/100], Loss: 1.0721\n",
      "Epoch [52/100], Loss: 1.0721\n",
      "Epoch [53/100], Loss: 1.0721\n",
      "Epoch [64/100], Loss: 1.0721\n",
      "Epoch [65/100], Loss: 1.0721\n",
      "Epoch [68/100], Loss: 1.0721\n",
      "Epoch [69/100], Loss: 1.0721\n",
      "Epoch [80/100], Loss: 1.0721\n",
      "Epoch [81/100], Loss: 1.0721\n",
      "Epoch [84/100], Loss: 1.0721\n",
      "Epoch [85/100], Loss: 1.0721\n",
      "Epoch [96/100], Loss: 1.0721\n",
      "Epoch [97/100], Loss: 1.0721\n",
      "Epoch [100/100], Loss: 1.0721\n"
     ]
    }
   ],
   "source": [
    "num_classes = len(np.unique(y_train))\n",
    "model = ClassificationModel(input_dim=X_train.shape[1], output_dim=num_classes).to(device)\n",
    "criterion = nn.CrossEntropyLoss()\n",
    "optimizer = optim.Adam(model.parameters(), lr=0.001)\n",
    "\n",
    "epochs = 100\n",
    "for epoch in range(epochs):\n",
    "    model.train()\n",
    "    outputs = model(X_train_tensor)\n",
    "    loss = criterion(outputs, y_train_tensor)\n",
    "\n",
    "    optimizer.zero_grad()\n",
    "    optimizer.step()\n",
    "\n",
    "    if (epoch+1)&10 ==0:\n",
    "        print(f\"Epoch [{epoch+1}/{epochs}], Loss: {loss.item():.4f}\")"
   ]
  },
  {
   "cell_type": "markdown",
   "id": "f42b9bfb-da4c-4b1c-a1bb-c08722fb7271",
   "metadata": {},
   "source": [
    "### Evaluating the model"
   ]
  },
  {
   "cell_type": "markdown",
   "id": "3b14e12a-f0ea-476a-8956-6851088a42fa",
   "metadata": {},
   "source": [
    "#### Regression"
   ]
  },
  {
   "cell_type": "code",
   "execution_count": null,
   "id": "cdb6c3d2-3756-4617-abc0-28c231015b8d",
   "metadata": {},
   "outputs": [],
   "source": [
    "model.eval()\n",
    "preds = model(X_test_tensor).detach().cpu().numpy()\n",
    "rmse = np.sqrt(mean_squared_error(y_test, preds))\n",
    "print(\"RMSE:\", rmse)"
   ]
  },
  {
   "cell_type": "markdown",
   "id": "285700ef-6e0b-4e49-ac9d-9c7bb0952029",
   "metadata": {},
   "source": [
    "#### Classification"
   ]
  },
  {
   "cell_type": "code",
   "execution_count": 19,
   "id": "0ee41d2a-0eb7-48f8-aea0-c39af2f4e0da",
   "metadata": {},
   "outputs": [
    {
     "name": "stdout",
     "output_type": "stream",
     "text": [
      "Accuracy: 0.31569965870307165\n"
     ]
    }
   ],
   "source": [
    "model.eval()\n",
    "outputs = model(X_test_tensor)\n",
    "_, predicted = torch.max(outputs, 1)\n",
    "acc = accuracy_score(y_test, predicted.cpu().numpy())\n",
    "print(\"Accuracy:\", acc)"
   ]
  },
  {
   "cell_type": "markdown",
   "id": "48edb3b9-c6f8-47f1-b32c-8cd2e4763e79",
   "metadata": {},
   "source": [
    "### Saving or exporting the model"
   ]
  },
  {
   "cell_type": "code",
   "execution_count": 20,
   "id": "465b9c84-dc97-4a8b-ab3d-481ee66d219c",
   "metadata": {},
   "outputs": [],
   "source": [
    "torch.save(model.state_dict(), 'house_model.pth')"
   ]
  },
  {
   "cell_type": "markdown",
   "id": "af45dc77-8ad1-40f6-a0a8-250ae252f170",
   "metadata": {},
   "source": [
    "### Loading the saved model in order to make predictions"
   ]
  },
  {
   "cell_type": "code",
   "execution_count": 24,
   "id": "e38e769f-3e83-4a7e-b64f-c2421fef88ec",
   "metadata": {},
   "outputs": [],
   "source": [
    "class HousePriceModel(nn.Module):\n",
    "    def __init__(self, input_dim):\n",
    "        super(HousePriceModel, self).__init__()\n",
    "        self.fc = nn.Sequential(   # <--- match this name\n",
    "            nn.Linear(input_dim, 128),\n",
    "            nn.ReLU(),\n",
    "            nn.Linear(128, 64),\n",
    "            nn.ReLU(),\n",
    "            nn.Linear(64, 3)\n",
    "        )\n",
    "\n",
    "    def forward(self, x):\n",
    "        return self.fc(x)"
   ]
  },
  {
   "cell_type": "code",
   "execution_count": 25,
   "id": "cf1b1925-f685-49e0-9187-811cec791a44",
   "metadata": {},
   "outputs": [],
   "source": [
    "input_size = X_train.shape[1]"
   ]
  },
  {
   "cell_type": "code",
   "execution_count": 26,
   "id": "92f2c7d9-9011-4911-bea4-6025916d11a9",
   "metadata": {},
   "outputs": [
    {
     "data": {
      "text/plain": [
       "HousePriceModel(\n",
       "  (fc): Sequential(\n",
       "    (0): Linear(in_features=221, out_features=128, bias=True)\n",
       "    (1): ReLU()\n",
       "    (2): Linear(in_features=128, out_features=64, bias=True)\n",
       "    (3): ReLU()\n",
       "    (4): Linear(in_features=64, out_features=3, bias=True)\n",
       "  )\n",
       ")"
      ]
     },
     "execution_count": 26,
     "metadata": {},
     "output_type": "execute_result"
    }
   ],
   "source": [
    "model = HousePriceModel(input_size)\n",
    "model.load_state_dict(torch.load('house_model.pth'))\n",
    "model.eval() # Set to evaluation mode"
   ]
  },
  {
   "cell_type": "code",
   "execution_count": 28,
   "id": "e3681c5d-711c-469a-aadf-cc4103d4ed6b",
   "metadata": {},
   "outputs": [],
   "source": [
    "# Example input: match exact preprocessing pipeline used in training\n",
    "# For example, let's use the first row of X_test (after preprocessing)\n",
    "sample_input = X_test[0].reshape(1, -1)  # shape: (1, input_dim)"
   ]
  },
  {
   "cell_type": "code",
   "execution_count": 29,
   "id": "a2413125-cf0c-41d9-907e-920dd71ca301",
   "metadata": {},
   "outputs": [],
   "source": [
    "input_tensor = torch.tensor(sample_input, dtype=torch.float32)"
   ]
  },
  {
   "cell_type": "markdown",
   "id": "5b51f480-0e5c-4afa-8e9e-8cf7a1e20bcf",
   "metadata": {},
   "source": [
    "### Regression"
   ]
  },
  {
   "cell_type": "code",
   "execution_count": 32,
   "id": "ee99670d-460e-410c-ab77-a24430963c77",
   "metadata": {},
   "outputs": [],
   "source": [
    "# Make sure this matches your regression model (output_dim = 1)\n",
    "with torch.no_grad():\n",
    "    output = model(input_tensor)\n",
    "    predicted_price = output.item()\n",
    "\n",
    "print(f\"Predicted Sale Price: ${predicted_price:.2f}\")"
   ]
  },
  {
   "cell_type": "markdown",
   "id": "7b4e9f77-f615-46c6-ae87-a5f13ad26074",
   "metadata": {},
   "source": [
    "### Classification"
   ]
  },
  {
   "cell_type": "code",
   "execution_count": 34,
   "id": "1e0d451d-4bfd-4f56-822a-c9e89bf7202f",
   "metadata": {},
   "outputs": [
    {
     "name": "stdout",
     "output_type": "stream",
     "text": [
      "Predicted Price Category: High\n"
     ]
    }
   ],
   "source": [
    "with torch.no_grad():\n",
    "    output = model(input_tensor)\n",
    "    predicted_class = torch.argmax(output, dim=1).item()\n",
    "\n",
    "# Optional: Map predicted_class to label\n",
    "class_labels = {0: \"Low\", 1: \"Medium\", 2: \"High\"}\n",
    "print(f\"Predicted Price Category: {class_labels[predicted_class]}\")"
   ]
  },
  {
   "cell_type": "markdown",
   "id": "ba04b7d8-b2c5-40b8-875f-58f347a02acc",
   "metadata": {},
   "source": [
    "## Manual Input"
   ]
  },
  {
   "cell_type": "code",
   "execution_count": 81,
   "id": "81960d7f-7d93-4e5a-9575-59f25b29e72e",
   "metadata": {},
   "outputs": [],
   "source": [
    "# Recreate the same model architecture as when training\n",
    "class HousePriceModel(nn.Module):\n",
    "    def __init__(self, input_dim, output_dim):\n",
    "        super(HousePriceModel, self).__init__()\n",
    "        self.fc = nn.Sequential(\n",
    "            nn.Linear(input_dim, 128),\n",
    "            nn.ReLU(),\n",
    "            nn.Linear(128, 64),\n",
    "            nn.ReLU(),\n",
    "            nn.Linear(64, output_dim)\n",
    "        )\n",
    "\n",
    "    def forward(self, x):\n",
    "        return self.fc(x)"
   ]
  },
  {
   "cell_type": "code",
   "execution_count": 82,
   "id": "705d2638-7486-4e30-af37-559bb0352560",
   "metadata": {},
   "outputs": [
    {
     "data": {
      "text/plain": [
       "HousePriceModel(\n",
       "  (fc): Sequential(\n",
       "    (0): Linear(in_features=221, out_features=128, bias=True)\n",
       "    (1): ReLU()\n",
       "    (2): Linear(in_features=128, out_features=64, bias=True)\n",
       "    (3): ReLU()\n",
       "    (4): Linear(in_features=64, out_features=3, bias=True)\n",
       "  )\n",
       ")"
      ]
     },
     "execution_count": 82,
     "metadata": {},
     "output_type": "execute_result"
    }
   ],
   "source": [
    "input_size = X_test.shape[1]\n",
    "output_size = 3  # Low, Medium, High\n",
    "model = HousePriceModel(input_size, output_size).to(device)\n",
    "model.load_state_dict(torch.load('house_model.pth'))\n",
    "model.eval()"
   ]
  },
  {
   "cell_type": "code",
   "execution_count": 128,
   "id": "8e31e4f1-203c-44ed-b785-3f85725a4fe2",
   "metadata": {},
   "outputs": [],
   "source": [
    "# Example: Pick any already preprocessed row from X_test\n",
    "manual_input = X_test[238].reshape(1, -1)  # Use any index (not based on y_test!)"
   ]
  },
  {
   "cell_type": "code",
   "execution_count": 129,
   "id": "02be1320-8034-46d3-bc3b-b067344f271d",
   "metadata": {},
   "outputs": [],
   "source": [
    "# Convert to tensor\n",
    "input_tensor = torch.tensor(manual_input).float().to(device)"
   ]
  },
  {
   "cell_type": "code",
   "execution_count": 130,
   "id": "a16eb2d5-6908-4736-85ca-1ad06ffcdd8c",
   "metadata": {},
   "outputs": [],
   "source": [
    "# Make prediction\n",
    "with torch.no_grad():\n",
    "    output = model(input_tensor)\n",
    "    predicted_class = torch.argmax(output, dim=1).item()"
   ]
  },
  {
   "cell_type": "code",
   "execution_count": 131,
   "id": "0884e302-3771-46f7-ab91-ebfb351cb5fd",
   "metadata": {},
   "outputs": [
    {
     "name": "stdout",
     "output_type": "stream",
     "text": [
      "Predicted House Price Category: High\n"
     ]
    }
   ],
   "source": [
    "# Mapping label indices\n",
    "class_labels = ['Low', 'Medium', 'High']\n",
    "print(\"Predicted House Price Category:\", class_labels[predicted_class])"
   ]
  },
  {
   "cell_type": "code",
   "execution_count": null,
   "id": "3753cb2c-683a-4eb4-af57-fc68fe9a4e0b",
   "metadata": {},
   "outputs": [],
   "source": []
  }
 ],
 "metadata": {
  "kernelspec": {
   "display_name": "Python 3 (ipykernel)",
   "language": "python",
   "name": "python3"
  },
  "language_info": {
   "codemirror_mode": {
    "name": "ipython",
    "version": 3
   },
   "file_extension": ".py",
   "mimetype": "text/x-python",
   "name": "python",
   "nbconvert_exporter": "python",
   "pygments_lexer": "ipython3",
   "version": "3.12.3"
  }
 },
 "nbformat": 4,
 "nbformat_minor": 5
}
